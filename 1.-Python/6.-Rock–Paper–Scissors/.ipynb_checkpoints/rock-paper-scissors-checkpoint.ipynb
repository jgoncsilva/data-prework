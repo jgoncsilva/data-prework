{
 "cells": [
  {
   "cell_type": "markdown",
   "metadata": {},
   "source": [
    "<img src=\"https://bit.ly/2VnXWr2\" width=\"100\" align=\"left\">"
   ]
  },
  {
   "cell_type": "markdown",
   "metadata": {},
   "source": [
    "# Rock, Paper & Scissors\n",
    "\n",
    "Let's play the famous game against our computer. You can check the rules [here](https://en.wikipedia.org/wiki/Rock%E2%80%93paper%E2%80%93scissors). \n",
    "\n",
    "## Task\n",
    "Create a program that imitates the playability of the well known game of rock, paper, scissors. Follow the guidelines provided.\n",
    "\n",
    "## Tools\n",
    "1. Loop: **for/while**\n",
    "2. Functions: **input(), print()...**\n",
    "3. Conditional statements: **if, elif, else**\n",
    "4. Definition of functions. Modular programming\n",
    "5. Import modules\n",
    "\n",
    "**To solve this challenge, the use of functions is recommended.**\n",
    "\n",
    "#### 1. Import the choice function of the random module."
   ]
  },
  {
   "cell_type": "code",
   "execution_count": 1,
   "metadata": {},
   "outputs": [],
   "source": [
    "import random as r"
   ]
  },
  {
   "cell_type": "markdown",
   "metadata": {},
   "source": [
    "#### 2. Create a list that includes the 3 possible gesture options of the game: 'rock', 'paper' or 'scissors'. Store the list in a variable called `gestures`."
   ]
  },
  {
   "cell_type": "code",
   "execution_count": 2,
   "metadata": {},
   "outputs": [],
   "source": [
    "gestures = [\"rock\", \"paper\", \"scissors\"]"
   ]
  },
  {
   "cell_type": "markdown",
   "metadata": {},
   "source": [
    "#### 3. Create a variable called `n_rounds` to store the maximum number of rounds to play in a game. \n",
    "Remember that the number of rounds must be odd: 1, 3, 5, ..."
   ]
  },
  {
   "cell_type": "code",
   "execution_count": 3,
   "metadata": {},
   "outputs": [
    {
     "name": "stdout",
     "output_type": "stream",
     "text": [
      "Let's play! Insert how many rounds you want? (Choose odd numbers) >>>   1\n",
      "Good boy! Let's play 1  rounds.\n"
     ]
    }
   ],
   "source": [
    "n_rounds = input(\"Let's play! Insert how many rounds you want? (Choose odd numbers) >>>   \")\n",
    "try:\n",
    "    n_rounds = int(n_rounds)\n",
    "    if n_rounds % 2 == 0:\n",
    "        print(\"ODD Number! Not even...\")\n",
    "        n_rounds = 0\n",
    "    elif n_rounds > 10:\n",
    "        print(\"Put one bloody odd number. BY ORDER OF THE PEAKY BLINDERS.\")\n",
    "        n_rounds = 0\n",
    "    else:\n",
    "        print(\"Good boy! Let's play\", int(n_rounds), \" rounds.\")\n",
    "except ValueError:\n",
    "    print(\"for game \", n_rounds, \" rounds i will shoot your hand\")\n",
    "    n_rounds = 0"
   ]
  },
  {
   "cell_type": "markdown",
   "metadata": {},
   "source": [
    "#### 4. Create a variable called `rounds_to_win` to store the number of rounds that a player must win to win the game.\n",
    "**Hint**: the value stored in `rounds_to_win` depends on the value of `n_rounds`. "
   ]
  },
  {
   "cell_type": "code",
   "execution_count": 4,
   "metadata": {},
   "outputs": [],
   "source": [
    "import math\n",
    "rounds_to_win = math.ceil(n_rounds/2)"
   ]
  },
  {
   "cell_type": "markdown",
   "metadata": {},
   "source": [
    "#### 5. Create two variables to store the number of rounds that the computer and the player have won. Call these variables `cpu_score` and `player_score`."
   ]
  },
  {
   "cell_type": "code",
   "execution_count": 5,
   "metadata": {},
   "outputs": [],
   "source": [
    "cpu_score = 0\n",
    "player_score = 0"
   ]
  },
  {
   "cell_type": "markdown",
   "metadata": {},
   "source": [
    "#### 6. Define a function that randomly returns one of the 3 gesture options.\n",
    "You will use this function to simulate the gesture choice of the computer. "
   ]
  },
  {
   "cell_type": "code",
   "execution_count": 6,
   "metadata": {},
   "outputs": [],
   "source": [
    "def cpu_random():\n",
    "    cpu_random.gesture = gestures[r.randint(0,2)]"
   ]
  },
  {
   "cell_type": "markdown",
   "metadata": {},
   "source": [
    "#### 7. Define a function that asks the player which is the gesture he or she wants to show: 'rock', 'paper' or 'scissors'.\n",
    "The player should only be allowed to choose one of the 3 gesture options. If the player's choice is not rock, paper or scissors, keep asking until it is."
   ]
  },
  {
   "cell_type": "code",
   "execution_count": 7,
   "metadata": {},
   "outputs": [],
   "source": [
    "def ask():\n",
    "    ask.person = str(input(\"I can't understand what you want to show? rock, paper or scissors?\"))\n",
    "    while ask.person not in (\"rock\", \"paper\", \"scissors\"):\n",
    "        ask.person = str(input(\"\"\"Sorry, your fingers are broken or what. \n",
    "        Are you kidding me? \n",
    "        Last chance :rock, paper or scissors? \n",
    "        use lowercase letters, or i'll cut your hands off.\"\"\"))"
   ]
  },
  {
   "cell_type": "markdown",
   "metadata": {},
   "source": [
    "#### 8. Define a function that checks who won a round. \n",
    "The function should return 0 if there is a tie, 1 if the computer wins and 2 if the player wins."
   ]
  },
  {
   "cell_type": "code",
   "execution_count": 8,
   "metadata": {},
   "outputs": [],
   "source": [
    "def evaluate():\n",
    "    evaluation = {0: \"Tie.\", 1: \"The CPU Wins.\", 2: \"The player Wins.\"}\n",
    "    if ask.person == \"rock\":\n",
    "        if cpu_random.gesture == \"scissors\":\n",
    "            evaluate.result =  evaluation[2]       \n",
    "        if cpu_random.gesture == \"paper\":\n",
    "            evaluate.result =  evaluation[1] \n",
    "        if ask.person == cpu_random.gesture:\n",
    "            evaluate.result =  evaluation[0] \n",
    "    if ask.person == \"paper\":\n",
    "        if cpu_random.gesture == \"scissors\":\n",
    "            evaluate.result =  evaluation[1] \n",
    "        if cpu_random.gesture == \"rock\":\n",
    "            evaluate.result =  evaluation[2]\n",
    "        if ask.person == cpu_random.gesture:\n",
    "            evaluate.result =  evaluation[0]\n",
    "    if ask.person == \"scissors\":\n",
    "        if cpu_random.gesture == \"paper\":\n",
    "            evaluate.result =  evaluation[2]\n",
    "        if cpu_random.gesture == \"rock\":\n",
    "            evaluate.result = evaluation[1]  \n",
    "        if ask.person == cpu_random.gesture:\n",
    "            evaluate.result =  evaluation[0]"
   ]
  },
  {
   "cell_type": "markdown",
   "metadata": {},
   "source": [
    "#### 9. Define a function that prints the choice of the computer, the choice of the player and a message that announces who won the current round. \n",
    "You should also use this function to update the variables that count the number of rounds that the computer and the player have won. The score of the winner increases by one point. If there is a tie, the score does not increase."
   ]
  },
  {
   "cell_type": "code",
   "execution_count": 9,
   "metadata": {},
   "outputs": [],
   "source": [
    "def prints():\n",
    "    global cpu_score\n",
    "    global player_score\n",
    "    global rounds\n",
    "    if evaluate.result == evaluation[0]:\n",
    "        print(\"You chose %s.\" % (ask.person))\n",
    "        print(\"CPU chose %s.\" % (cpu_random.gesture))\n",
    "        print(\"Round %d: Tie.\" % (rounds))\n",
    "        \n",
    "    if evaluate.result == evaluation[1]:\n",
    "        print(\"You chose %s.\" % (ask.person))\n",
    "        print(\"CPU chose %s.\" % (cpu_random.gesture))\n",
    "        print(\"Round %d: CPU Wins.\" % (rounds))\n",
    "        cpu_score += 1\n",
    "\n",
    "    if evaluate.result == evalution[2]:\n",
    "        print(\"You chose %s.\" % (ask.person))\n",
    "        print(\"CPU chose %s.\" % (cpu_random.gesture))\n",
    "        print(\"Round %d: Player Wins.\" % (rounds))\n",
    "        player_score += 1\n",
    "        "
   ]
  },
  {
   "cell_type": "markdown",
   "metadata": {},
   "source": [
    "#### 10. Now it's time to code the execution of the game using the functions and variables you defined above. \n",
    "\n",
    "First, create a loop structure that repeats while no player reaches the minimum score necessary to win and the number of rounds is less than the maximum number of rounds to play in a game.  \n",
    "\n",
    "Inside the loop, use the functions and variables above to create the execution of a round: ask for the player's choice, generate the random choice of the computer, show the round results, update the scores, etc. "
   ]
  },
  {
   "cell_type": "code",
   "execution_count": null,
   "metadata": {},
   "outputs": [
    {
     "name": "stdout",
     "output_type": "stream",
     "text": [
      "I can't understand what you want to show? rock, paper or scissors?'paper'\n",
      "Sorry, your fingers are broken or what. \n",
      "        Are you kidding me? \n",
      "        Last chance :rock, paper or scissors? \n",
      "        use lowercase letters, or i'll cut your hands off.'rock'\n",
      "Sorry, your fingers are broken or what. \n",
      "        Are you kidding me? \n",
      "        Last chance :rock, paper or scissors? \n",
      "        use lowercase letters, or i'll cut your hands off.'scissors'\n"
     ]
    }
   ],
   "source": [
    "import random as r\n",
    "\n",
    "gestures = [\"rock\", \"paper\", \"scissors\"]\n",
    "total_rounds = 3\n",
    "rounds = 0\n",
    "\n",
    "rounds_to_win = (round(total_rounds/2))\n",
    "\n",
    "while rounds < total_rounds:\n",
    "    rounds +=1\n",
    "    cpu_random()\n",
    "    ask()\n",
    "    evaluate()\n",
    "    prints()"
   ]
  },
  {
   "cell_type": "markdown",
   "metadata": {},
   "source": [
    "#### 11. Print the winner of the game based on who won more rounds.\n",
    "Remember that the game might be tied. "
   ]
  },
  {
   "cell_type": "code",
   "execution_count": null,
   "metadata": {},
   "outputs": [],
   "source": [
    "if player_score == rounds_to_win or player_score > cpu_score:\n",
    "    print(\"Player WINS!\")\n",
    "if cpu_score == rounds_to_win or player_score < cpu_score:\n",
    "    print(\"Machine WINS!\")\n",
    "if player_score == cpu_score:\n",
    "    print(\"TIE!\")"
   ]
  },
  {
   "cell_type": "markdown",
   "metadata": {},
   "source": [
    "# Bonus: Rock, Paper, Scissors, Lizard & Spock\n",
    "![](images/rpsls.jpg)\n",
    "\n",
    "In this challenge, you need to improve the previous game by adding two new options. To know more about the rules of the improved version of rock, paper, scissors, check this [link](http://www.samkass.com/theories/RPSSL.html). \n",
    "\n",
    "In addition, you will also need to improve how the game interacts with the player: the number of rounds to play, which must be an odd number, will be requested to the user until a valid number is entered. Define a new function to make that request.\n",
    "\n",
    "**Hint**: Try to reuse the code that you already coded in the previous challenge. If your code is efficient, this bonus will only consist of simple modifications to the original game."
   ]
  },
  {
   "cell_type": "code",
   "execution_count": null,
   "metadata": {},
   "outputs": [],
   "source": [
    "def prints():\n",
    "    global cpu_score\n",
    "    global player_score\n",
    "    global rounds\n",
    "    if evaluate.result == evaluation[0]:\n",
    "        print(\"You chose %s.\" % (ask.person))\n",
    "        print(\"CPU chose %s.\" % (cpu_random.gesture))\n",
    "        print(\"Round %d/%d: Tie.\" % (rounds,total_rounds))\n",
    "        \n",
    "    if evaluate.result == evaluation[1]:\n",
    "        print(\"You chose %s.\" % (ask.person))\n",
    "        print(\"CPU chose %s.\" % (cpu_random.gesture))\n",
    "        print(\"Round %d/%d: CPU Wins.\" % (rounds,total_rounds))\n",
    "        cpu_score += 1\n",
    "\n",
    "    if evaluate.result == evaluation[2]:\n",
    "        print(\"You chose %s.\" % (ask.person))\n",
    "        print(\"CPU chose %s.\" % (cpu_random.gesture))\n",
    "        print(\"Round %d/%d: Player Wins.\" % (rounds,total_rounds))\n",
    "        player_score += 1\n",
    "#i'll try figure out how to clean this code\n",
    "while rounds < total_rounds:\n",
    "    rounds +=1\n",
    "    cpu_rps()\n",
    "    ask()\n",
    "    evaluate()\n",
    "    prints()\n",
    "    \n",
    "if player_score == rounds_to_win or player_score > cpu_score:\n",
    "    print(\"Player WINS!\")\n",
    "if cpu_score == rounds_to_win or player_score < cpu_score:\n",
    "    print(\"Machine WINS!\")\n",
    "if player_score == cpu_score:\n",
    "    print(\"TIE!\")\n",
    "    "
   ]
  },
  {
   "cell_type": "code",
   "execution_count": null,
   "metadata": {},
   "outputs": [],
   "source": []
  }
 ],
 "metadata": {
  "kernelspec": {
   "display_name": "Python 3",
   "language": "python",
   "name": "python3"
  },
  "language_info": {
   "codemirror_mode": {
    "name": "ipython",
    "version": 3
   },
   "file_extension": ".py",
   "mimetype": "text/x-python",
   "name": "python",
   "nbconvert_exporter": "python",
   "pygments_lexer": "ipython3",
   "version": "3.7.6"
  }
 },
 "nbformat": 4,
 "nbformat_minor": 2
}
