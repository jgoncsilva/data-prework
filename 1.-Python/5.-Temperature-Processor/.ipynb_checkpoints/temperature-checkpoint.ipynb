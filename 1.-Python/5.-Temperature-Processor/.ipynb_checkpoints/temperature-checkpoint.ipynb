{
 "cells": [
  {
   "cell_type": "markdown",
   "metadata": {},
   "source": [
    "<img src=\"https://bit.ly/2VnXWr2\" width=\"100\" align=\"left\">"
   ]
  },
  {
   "cell_type": "markdown",
   "metadata": {},
   "source": [
    "# Temperature Sensor\n",
    "\n",
    "There is a temperature sensor in the processor of your company's server. The company wants to analyze the data provided by the sensor to decide if they should change the cooling system for a better one. As changing the cooling system is expensive and you are an excellent data analyst, you can't make a decision without basis.\n",
    "\n",
    "## Tools\n",
    "You don't necessarily need to use all the tools. Maybe you opt to use some of them or completely different ones, they are given to help you shape the exercise. Programming exercises can be solved in many different ways.\n",
    "1. Data structures: **lists**\n",
    "2. Loops: **list comprehension**\n",
    "3. Functions: **min, max, print, len**\n",
    "4. Conditional statements: **if-elif-else**\n",
    "\n",
    "## Tasks\n",
    "The temperatures measured throughout the 24 hours of a day are:"
   ]
  },
  {
   "cell_type": "code",
   "execution_count": 1,
   "metadata": {},
   "outputs": [],
   "source": [
    "temperatures_C = [33, 66, 65, 0, 59, 60, 62, 64, 70, 76, 80, 81, 80, 83, 90, 79, 61, 53, 50, 49, 53, 48, 45, 39]"
   ]
  },
  {
   "cell_type": "markdown",
   "metadata": {},
   "source": [
    "The first element of the list is the temperature at 12am, the second element is the temperature at 1am, and so on. \n",
    "\n",
    "The company has decided that if one of the following events occurs, then the cooling system needs to be replaced for a new one to avoid damaging the processor.\n",
    "* More than 4 temperatures are greater than or equal to 70ºC.\n",
    "* Any temperature is above 80ºC.\n",
    "* The average temperature exceeds 65ºC.\n",
    "\n",
    "Follow the steps so that you can make the decision.\n",
    "\n",
    "#### 1. Find the minimum temperature of the day and store it in a variable."
   ]
  },
  {
   "cell_type": "code",
   "execution_count": null,
   "metadata": {},
   "outputs": [],
   "source": [
    "min_temp = min(temperatures_C)\n",
    "print(\"The minimum temperature is:\", min_temperature)"
   ]
  },
  {
   "cell_type": "markdown",
   "metadata": {},
   "source": [
    "#### 2. Find the maximum temperature of the day and store it in a variable."
   ]
  },
  {
   "cell_type": "code",
   "execution_count": null,
   "metadata": {},
   "outputs": [],
   "source": [
    "max_temperature = max(temperatures_C)\n",
    "print(\"The maximum temperature y is:\", max_temperature)"
   ]
  },
  {
   "cell_type": "markdown",
   "metadata": {},
   "source": [
    "#### 3. Create a list with the temperatures that are greater than or equal to 70ºC. Store it in a variable."
   ]
  },
  {
   "cell_type": "code",
   "execution_count": 4,
   "metadata": {},
   "outputs": [
    {
     "name": "stdout",
     "output_type": "stream",
     "text": [
      "List of temper in the gates of hell [70, 76, 80, 81, 80, 83, 90, 79]\n"
     ]
    }
   ],
   "source": [
    "death_temperature = [x for x in temperatures_C if x >= 70]\n",
    "print(\"List of temper in the gates of hell\", death_temperature)"
   ]
  },
  {
   "cell_type": "markdown",
   "metadata": {},
   "source": [
    "#### 4. Find the average temperature of the day and store it in a variable."
   ]
  },
  {
   "cell_type": "code",
   "execution_count": 5,
   "metadata": {},
   "outputs": [
    {
     "name": "stdout",
     "output_type": "stream",
     "text": [
      "The average temper is: 60.25 ºC.\n"
     ]
    }
   ],
   "source": [
    "import numpy as np\n",
    "\n",
    "avg_temperature = np.mean(temperatures_C)\n",
    "\n",
    "print(\"The average temper is:\", avg_temperature, \"ºC.\")"
   ]
  },
  {
   "cell_type": "markdown",
   "metadata": {},
   "source": [
    "#### 5. Imagine that there was a sensor failure at 3am and the data for that specific hour was not recorded. How would you estimate the missing value? Replace the current value of the list at 3am for an estimation. "
   ]
  },
  {
   "cell_type": "code",
   "execution_count": 9,
   "metadata": {},
   "outputs": [
    {
     "name": "stdout",
     "output_type": "stream",
     "text": [
      "Estimation temper: 62.0\n"
     ]
    }
   ],
   "source": [
    "temperature_3am = temperatures_C[4]-(3-2)*((temperatures_C[4]-temperatures_C[2])/(4-2))\n",
    "#For this one i ask help !!\n",
    "\n",
    "temperatures_C[3]= temperature_3am\n",
    "\n",
    "print(\"Estimation temper:\", temperatures_C[3])"
   ]
  },
  {
   "cell_type": "markdown",
   "metadata": {},
   "source": [
    "#### 6. Bonus: the maintenance staff is from the United States and does not understand the international metric system. Help them by converting the temperatures from Celsius to Fahrenheit.\n",
    "To know more about temperature conversion check this [link](https://en.wikipedia.org/wiki/Conversion_of_units_of_temperature).\n",
    "\n",
    "**Formula**: \n",
    "\n",
    "$F = 1.8 * C + 32$"
   ]
  },
  {
   "cell_type": "code",
   "execution_count": 12,
   "metadata": {},
   "outputs": [
    {
     "name": "stdout",
     "output_type": "stream",
     "text": [
      "Converting temperature the 62,5º C converted to farenheit is: 143.60000000000002\n"
     ]
    }
   ],
   "source": [
    "def conversioncf(C):\n",
    "    return 1.8*C+32\n",
    "#Same idea of the previous one but check out the like above\n",
    "print(\"Converting temperature the 62,5º C converted to farenheit is:\", conversioncf(temperatures_C[3]))"
   ]
  },
  {
   "cell_type": "markdown",
   "metadata": {},
   "source": [
    "#### 7. Make a decision!\n",
    "Now it's time to make a decision taking into account what you have seen until now. \n",
    "\n",
    "Remember that if one of the following events occurs, then the cooling system needs to be replaced for a new one to avoid damaging the processor.\n",
    "* More than 4 temperatures are greater than or equal to 70ºC.\n",
    "* Any temperature is above 80ºC.\n",
    "* The average temperature exceeds 65ºC.\n",
    "\n",
    "#### To make your decision, check if any of the three conditions above is met. You might need to use some of the variables you created in steps 1 to 6. Print a message to show if the cooling system needs to be changed or not."
   ]
  },
  {
   "cell_type": "code",
   "execution_count": 15,
   "metadata": {},
   "outputs": [
    {
     "name": "stdout",
     "output_type": "stream",
     "text": [
      "It's burning mate! Buy some part of Antartica .\n"
     ]
    }
   ],
   "source": [
    "if len(death_temperature) >= 4 or x >= 80 in temperatures_C or average >= 65:\n",
    "    print(\"It's burning mate! Buy some part of Antartica .\")\n",
    "else:\n",
    "    print(\"Seems like Braga-pt in winter. Cooling system is OK\")"
   ]
  },
  {
   "cell_type": "markdown",
   "metadata": {},
   "source": [
    "## Bonus\n",
    "\n",
    "The company has decided that the decision you made is not valid. They want you to analyze the data again but this time, the conditions that need to be met in order to change the cooling system are different.\n",
    "\n",
    "This time, if one of the following events occurs, then the cooling system needs to be replaced:\n",
    "* The temperature is greater than 70ºC during more than 4 consecutive hours.\n",
    "* Any temperature is above 80ºC.\n",
    "* The average temperature exceeds 65ºC.\n",
    "\n",
    "Follow the steps so that you can make the decision.\n",
    "\n",
    "#### 1. Create a list with the hours where the temperature is greater than 70ºC. Store it in a variable."
   ]
  },
  {
   "cell_type": "code",
   "execution_count": 29,
   "metadata": {},
   "outputs": [
    {
     "name": "stdout",
     "output_type": "stream",
     "text": [
      "Temperatures >=  70 ºC during more than 4 consecutive hours 0\n",
      "Temperatures > 80 ºC: 3\n",
      "The average temper is 60.25\n",
      "Temperatures >= 70 ºC: [70, 76, 80, 81, 80, 83, 90, 79]\n",
      "The cooling system are broken please fix or die.\n"
     ]
    }
   ],
   "source": [
    "temperatures_70 = []\n",
    "temperatures_70_counter = 0\n",
    "temperatures_80 = 0\n",
    "\n",
    "\n",
    "for temperature in temperatures_C:\n",
    "    if temperature >= 70:\n",
    "        temperatures_70_counter += 1\n",
    "        temperatures_70.append(temperature)\n",
    "    else:\n",
    "            temperatures_70_counter = 0\n",
    "            \n",
    "    if temperature > 80:\n",
    "        temperatures_80 +=1\n",
    "        \n",
    "if temperatures_70_counter > 4 or temperatures_80 != 0 or avg_temperature > 65:\n",
    "    print(\"Temperatures >=  70 ºC during more than 4 consecutive hours\", temperatures_70_counter)\n",
    "    print(\"Temperatures > 80 ºC:\", temperatures_80)\n",
    "    print(\"The average temper is %.2f\" % (avg_temperature))\n",
    "    print(\"Temperatures >= 70 ºC:\", temperatures_70)\n",
    "    print('The cooling system are broken please fix or die.')\n",
    "    "
   ]
  },
  {
   "cell_type": "markdown",
   "metadata": {},
   "source": [
    "#### 2. Check if the list you created in step 1 has more than 4 consecutive hours. "
   ]
  },
  {
   "cell_type": "code",
   "execution_count": 28,
   "metadata": {},
   "outputs": [
    {
     "name": "stdout",
     "output_type": "stream",
     "text": [
      "We have: {8} hours with temperatures above 70 C, so the list have more than 4 consecutive hours.\n"
     ]
    }
   ],
   "source": [
    "print('We have:',{len(temperatures_70)},'hours with temperatures above 70 C, so the list have more than 4 consecutive hours.')"
   ]
  },
  {
   "cell_type": "markdown",
   "metadata": {},
   "source": [
    "#### 3. Make the decision!\n",
    "To make your decision, check if any of the three conditions is met. Print a message to show if the cooling system needs to be changed or not."
   ]
  },
  {
   "cell_type": "code",
   "execution_count": 30,
   "metadata": {},
   "outputs": [
    {
     "name": "stdout",
     "output_type": "stream",
     "text": [
      "It's burning mate! Buy some part of Antartica.\n"
     ]
    }
   ],
   "source": [
    "conditions = 0\n",
    "counter = 0\n",
    "while conditions < 4 and len(temperatures_C) != (counter + 1):\n",
    "    if temperatures_C[counter] >= 70:\n",
    "        conditions += 1\n",
    "    else:\n",
    "        conditions = 0\n",
    "    counter += 1\n",
    "\n",
    "if conditions >= 4 or m >= 80 in temperatures_C or average >= 65:\n",
    "    print(\"It's burning mate! Buy some part of Antartica.\")\n",
    "else:\n",
    "    print(\"Seems like Braga-pt in winter. Cooling system is OK\")"
   ]
  },
  {
   "cell_type": "markdown",
   "metadata": {},
   "source": [
    "#### 4. Find the average value of the temperature lists (ºC and ºF). What is the relation between both average values?"
   ]
  },
  {
   "cell_type": "code",
   "execution_count": 33,
   "metadata": {},
   "outputs": [
    {
     "name": "stdout",
     "output_type": "stream",
     "text": [
      "The average temperature in Celsius is 60.25\n",
      "The average temperature in Farenheit is 140.45\n"
     ]
    }
   ],
   "source": [
    "print(\"The average temperature in Celsius is %.2f\" % (avg_temperature))\n",
    "print(\"The average temperature in Farenheit is %.2f\" % (conversioncf(avg_temperature)))"
   ]
  },
  {
   "cell_type": "markdown",
   "metadata": {},
   "source": [
    "#### 5. Find the standard deviation of the temperature lists (ºC and ºF). What is the relation between both standard deviations?"
   ]
  },
  {
   "cell_type": "code",
   "execution_count": 35,
   "metadata": {},
   "outputs": [
    {
     "name": "stdout",
     "output_type": "stream",
     "text": [
      "The average temperature in Celsius is 14.63\n",
      "The average temperature in Farenheit is 58.34\n"
     ]
    }
   ],
   "source": [
    "import numpy as np\n",
    "print(\"The average temperature in Celsius is %.2f\" % (np.std(temperatures_C)))\n",
    "print(\"The average temperature in Farenheit is %.2f\" % (conversioncf(np.std(temperatures_C))))"
   ]
  }
 ],
 "metadata": {
  "kernelspec": {
   "display_name": "Python 3",
   "language": "python",
   "name": "python3"
  },
  "language_info": {
   "codemirror_mode": {
    "name": "ipython",
    "version": 3
   },
   "file_extension": ".py",
   "mimetype": "text/x-python",
   "name": "python",
   "nbconvert_exporter": "python",
   "pygments_lexer": "ipython3",
   "version": "3.7.6"
  }
 },
 "nbformat": 4,
 "nbformat_minor": 2
}
